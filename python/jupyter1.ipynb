{
 "cells": [
  {
   "cell_type": "code",
   "execution_count": 10,
   "metadata": {},
   "outputs": [
    {
     "name": "stdout",
     "output_type": "stream",
     "text": [
      "x:3,y:5\n"
     ]
    },
    {
     "data": {
      "text/plain": [
       "1"
      ]
     },
     "execution_count": 10,
     "metadata": {},
     "output_type": "execute_result"
    }
   ],
   "source": [
    "# 介绍python 魔法函数\n",
    "class Company(object):\n",
    "    def __init__(self, employee__list):\n",
    "        self.employee = employee__list\n",
    "# python  魔法 函数\n",
    "\n",
    "    def __getitem__(self, item):\n",
    "        return self.employee[item]\n",
    "    def __repr__(self):\n",
    "        return \",\".join(self.employee)\n",
    "    def __str__(self):\n",
    "        return \",\".join(self.employee)\n",
    "class Nums(object):\n",
    "    def __init__(self,num):\n",
    "        self.num=num\n",
    "    def __abs__(self):\n",
    "        return abs(self.num)\n",
    "class MyVector(object):\n",
    "    def __init__(self,x,y):\n",
    "        self.x=x\n",
    "        self.y=y\n",
    "    def __add__(self,other_instance):\n",
    "        re_vecoor=MyVector(self.x+other_instance.x,self.y+other_instance.y)\n",
    "        return re_vecoor\n",
    "    def __str__(self):\n",
    "        return \"x:{x},y:{y}\".format(x=self.x,y=self.y)\n",
    "first_vec=MyVector(1,2)\n",
    "second_vec=MyVector(2,3)\n",
    "print(first_vec+second_vec)\n",
    "company=Company([\"tom\",\"bob\",\"jane\"])\n",
    "my_num=Nums(-1)\n",
    "abs(my_num)\n",
    "# company\n",
    "# print(company)\n"
   ]
  },
  {
   "cell_type": "code",
   "execution_count": 8,
   "metadata": {},
   "outputs": [
    {
     "name": "stdout",
     "output_type": "stream",
     "text": [
      "2\n",
      "True\n"
     ]
    }
   ],
   "source": [
    "class Comany(object):\n",
    "    def __init__(self,elist):\n",
    "        self.employee=elist\n",
    "    def __len__(self):\n",
    "        return len(self.employee)\n",
    "cm=Comany([\"123\",\"123\"])\n",
    "print(len(cm))\n",
    "print(hasattr(cm,\"__len__\"))\n",
    "from collections.abc import Sized\n",
    "isinstance(cm,Sized)\n",
    "# 抽象基类\n",
    "import abc\n",
    "class CacheBase(metaclass=abc.ABCMeta):\n",
    "    @abc.abstractmethod\n",
    "    def get(self,key):\n",
    "        pass\n",
    "    @abc.abstractmethod\n",
    "    def set(self,key,value):\n",
    "        pass\n",
    "class RedisCache(CacheBase):\n",
    "    def __init__(self):\n",
    "        pass\n",
    "# rc=RedisCache()\n",
    "\n",
    "    \n",
    "\n",
    "\n"
   ]
  },
  {
   "cell_type": "code",
   "execution_count": 20,
   "metadata": {},
   "outputs": [
    {
     "name": "stdout",
     "output_type": "stream",
     "text": [
      "2019/12/1\n",
      "2020/12/11\n",
      "<bound method Date.get_age of <__main__.Date object at 0x000001F2C27C87C0>>\n",
      "2020\n",
      "{'__module__': '__main__', 'get_age': <function Date.get_age at 0x000001F2C33F75E0>, 'parsefromstring': <staticmethod object at 0x000001F2C27C8A00>, '__init__': <function Date.__init__ at 0x000001F2C33F7AF0>, '__str__': <function Date.__str__ at 0x000001F2C33F7B80>, '__dict__': <attribute '__dict__' of 'Date' objects>, '__weakref__': <attribute '__weakref__' of 'Date' objects>, '__doc__': None}\n"
     ]
    }
   ],
   "source": [
    "import datetime\n",
    "class Date:\n",
    "    def get_age(self):\n",
    "        return int(datetime.datetime.now().year)-int(self.year)\n",
    "    @staticmethod\n",
    "    def parsefromstring(datestr):\n",
    "        year,month,day=datestr.split(\"-\")\n",
    "        return Date(year,month,day)\n",
    "    def __init__(self,year,month,day):\n",
    "        self.year=year\n",
    "        self.month=month\n",
    "        self.day=day\n",
    "    def __str__(self):\n",
    "        return f\"{self.year}/{self.month}/{self.day}\"\n",
    "    \n",
    "date1=Date(\"2019\",\"12\",\"1\")\n",
    "date2=Date.parsefromstring(\"2020-12-11\")\n",
    "print(date1)\n",
    "print(date2)   \n",
    "print(date1.get_age)\n",
    "print(datetime.datetime.now().year)\n",
    "print(Date.__dict__)"
   ]
  },
  {
   "cell_type": "code",
   "execution_count": 3,
   "metadata": {},
   "outputs": [
    {
     "name": "stdout",
     "output_type": "stream",
     "text": [
      "file open\n",
      "file fo \n",
      "file end\n"
     ]
    }
   ],
   "source": [
    "import contextlib\n",
    "@contextlib.contextmanager\n",
    "def file_open(file_name):\n",
    "    print(\"file open\")\n",
    "    yield\n",
    "    print(\"file end\")\n",
    "with file_open(\"aaaaa\") as fo:\n",
    "    print(\"file fo \")"
   ]
  },
  {
   "cell_type": "code",
   "execution_count": null,
   "metadata": {},
   "outputs": [],
   "source": []
  }
 ],
 "metadata": {
  "kernelspec": {
   "display_name": "Python 3",
   "language": "python",
   "name": "python3"
  },
  "language_info": {
   "codemirror_mode": {
    "name": "ipython",
    "version": 3
   },
   "file_extension": ".py",
   "mimetype": "text/x-python",
   "name": "python",
   "nbconvert_exporter": "python",
   "pygments_lexer": "ipython3",
   "version": "3.8.5"
  }
 },
 "nbformat": 4,
 "nbformat_minor": 4
}
